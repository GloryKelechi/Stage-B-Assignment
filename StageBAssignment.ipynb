{
 "cells": [
  {
   "cell_type": "code",
   "execution_count": 1,
   "id": "57ac8301",
   "metadata": {},
   "outputs": [],
   "source": [
    "import pandas as pd\n",
    "import numpy as np\n",
    "import seaborn as sns\n",
    "import matplotlib.pyplot as plt\n",
    "%matplotlib inline\n",
    "import warnings"
   ]
  },
  {
   "cell_type": "code",
   "execution_count": 2,
   "id": "c27501ae",
   "metadata": {},
   "outputs": [],
   "source": [
    "data = pd.read_csv(r'C:\\Users\\gloke\\Downloads\\energydata_complete.csv')"
   ]
  },
  {
   "cell_type": "code",
   "execution_count": 4,
   "id": "8982fec9",
   "metadata": {},
   "outputs": [],
   "source": [
    "X = data.drop([\"Appliances\"], axis= \"columns\") \n",
    "\n",
    "y = data[\"Appliances\"]"
   ]
  },
  {
   "cell_type": "code",
   "execution_count": 3,
   "id": "ca331211",
   "metadata": {},
   "outputs": [],
   "source": [
    "data.drop(columns = ['date'], inplace = True)"
   ]
  },
  {
   "cell_type": "code",
   "execution_count": 5,
   "id": "a1773c4c",
   "metadata": {},
   "outputs": [],
   "source": [
    "from sklearn import metrics # For model evaluation\n",
    "\n",
    "from sklearn.model_selection import train_test_split # To divide the data into training and test set"
   ]
  },
  {
   "cell_type": "code",
   "execution_count": 7,
   "id": "e47fed17",
   "metadata": {},
   "outputs": [],
   "source": [
    "from sklearn.linear_model import LinearRegression"
   ]
  },
  {
   "cell_type": "code",
   "execution_count": 8,
   "id": "9b01ec00",
   "metadata": {},
   "outputs": [],
   "source": [
    "X_train, X_test, y_train, y_test = train_test_split(X, y, test_size = 0.3, random_state= 42)"
   ]
  },
  {
   "cell_type": "code",
   "execution_count": 9,
   "id": "74e718ba",
   "metadata": {},
   "outputs": [
    {
     "data": {
      "text/plain": [
       "LinearRegression()"
      ]
     },
     "execution_count": 9,
     "metadata": {},
     "output_type": "execute_result"
    }
   ],
   "source": [
    "linearmodel = LinearRegression()\n",
    "\n",
    "linearmodel.fit(X_train, y_train)"
   ]
  },
  {
   "cell_type": "code",
   "execution_count": 10,
   "id": "6cebcc54",
   "metadata": {},
   "outputs": [
    {
     "data": {
      "text/plain": [
       "array([ 44.11335979, 260.8313502 ,  45.4799905 , ...,  79.36505444,\n",
       "       168.22729282,  67.09394134])"
      ]
     },
     "execution_count": 10,
     "metadata": {},
     "output_type": "execute_result"
    }
   ],
   "source": [
    "linearmodel.predict(X_test)"
   ]
  },
  {
   "cell_type": "code",
   "execution_count": 14,
   "id": "d23d8c2c",
   "metadata": {},
   "outputs": [],
   "source": [
    "MSE = metrics.mean_squared_error(y_test, linearmodel_prediction)"
   ]
  },
  {
   "cell_type": "code",
   "execution_count": 12,
   "id": "752f1643",
   "metadata": {},
   "outputs": [],
   "source": [
    "linearmodel_prediction = linearmodel.predict(X_test)"
   ]
  },
  {
   "cell_type": "code",
   "execution_count": 13,
   "id": "c3566335",
   "metadata": {},
   "outputs": [
    {
     "data": {
      "text/plain": [
       "8980      -4.113360\n",
       "2754    -170.831350\n",
       "9132       4.520010\n",
       "14359    -67.462343\n",
       "8875      36.889450\n",
       "            ...    \n",
       "831      165.242957\n",
       "10993    -28.453355\n",
       "11761    -29.365054\n",
       "12364    -58.227293\n",
       "11863    -17.093941\n",
       "Name: Appliances, Length: 5921, dtype: float64"
      ]
     },
     "execution_count": 13,
     "metadata": {},
     "output_type": "execute_result"
    }
   ],
   "source": [
    "y_test - linearmodel_prediction "
   ]
  },
  {
   "cell_type": "code",
   "execution_count": 15,
   "id": "25b4ab5c",
   "metadata": {},
   "outputs": [
    {
     "data": {
      "text/plain": [
       "8579.643142925755"
      ]
     },
     "execution_count": 15,
     "metadata": {},
     "output_type": "execute_result"
    }
   ],
   "source": [
    "MSE"
   ]
  },
  {
   "cell_type": "code",
   "execution_count": 17,
   "id": "df209303",
   "metadata": {},
   "outputs": [
    {
     "data": {
      "text/plain": [
       "92.62636310967713"
      ]
     },
     "execution_count": 17,
     "metadata": {},
     "output_type": "execute_result"
    }
   ],
   "source": [
    "np.sqrt(MSE)"
   ]
  },
  {
   "cell_type": "code",
   "execution_count": 20,
   "id": "17752221",
   "metadata": {},
   "outputs": [],
   "source": [
    "from sklearn.metrics import mean_absolute_error"
   ]
  },
  {
   "cell_type": "code",
   "execution_count": 22,
   "id": "ffb7b43d",
   "metadata": {},
   "outputs": [],
   "source": [
    "MAE = mean_absolute_error(y_test, linearmodel_prediction)"
   ]
  },
  {
   "cell_type": "code",
   "execution_count": 25,
   "id": "41dc7567",
   "metadata": {},
   "outputs": [],
   "source": [
    "RMSE = np.sqrt(MAE)"
   ]
  },
  {
   "cell_type": "code",
   "execution_count": 26,
   "id": "b86d8dc2",
   "metadata": {},
   "outputs": [
    {
     "data": {
      "text/plain": [
       "7.274983661816737"
      ]
     },
     "execution_count": 26,
     "metadata": {},
     "output_type": "execute_result"
    }
   ],
   "source": [
    "RMSE"
   ]
  },
  {
   "cell_type": "code",
   "execution_count": null,
   "id": "d2e34ab3",
   "metadata": {},
   "outputs": [],
   "source": []
  }
 ],
 "metadata": {
  "kernelspec": {
   "display_name": "Python 3",
   "language": "python",
   "name": "python3"
  },
  "language_info": {
   "codemirror_mode": {
    "name": "ipython",
    "version": 3
   },
   "file_extension": ".py",
   "mimetype": "text/x-python",
   "name": "python",
   "nbconvert_exporter": "python",
   "pygments_lexer": "ipython3",
   "version": "3.8.8"
  }
 },
 "nbformat": 4,
 "nbformat_minor": 5
}
